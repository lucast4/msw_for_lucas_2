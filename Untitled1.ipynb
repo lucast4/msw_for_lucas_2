{
 "cells": [
  {
   "cell_type": "code",
   "execution_count": 7,
   "metadata": {},
   "outputs": [],
   "source": [
    "import scipy.io\n",
    "import numpy as np\n",
    "import torch"
   ]
  },
  {
   "cell_type": "code",
   "execution_count": 2,
   "metadata": {},
   "outputs": [],
   "source": [
    "from collections import Counter\n",
    "mat = scipy.io.loadmat(\"examples/mnist/data/chardata_omniglot.mat\")"
   ]
  },
  {
   "cell_type": "code",
   "execution_count": 3,
   "metadata": {},
   "outputs": [],
   "source": [
    "class tmp:\n",
    "    def __init__(self):\n",
    "        return None\n",
    "    \n",
    "    nSupport = 1\n",
    "    "
   ]
  },
  {
   "cell_type": "code",
   "execution_count": 4,
   "metadata": {},
   "outputs": [],
   "source": [
    "args = tmp()"
   ]
  },
  {
   "cell_type": "code",
   "execution_count": 5,
   "metadata": {},
   "outputs": [
    {
     "data": {
      "text/plain": [
       "1"
      ]
     },
     "execution_count": 5,
     "metadata": {},
     "output_type": "execute_result"
    }
   ],
   "source": [
    "args.nSupport\n"
   ]
  },
  {
   "cell_type": "code",
   "execution_count": 8,
   "metadata": {},
   "outputs": [],
   "source": [
    "\n",
    "d = np.concatenate([\n",
    "    mat['data'].transpose(),\n",
    "    mat['testdata'].transpose()])\n",
    "labels = 100 * np.concatenate([\n",
    "        mat['target'].transpose().nonzero()[1],\n",
    "        mat['testtarget'].transpose().nonzero()[1]\n",
    "    ]) + np.concatenate([\n",
    "        mat['targetchar'][0],\n",
    "        mat['testtargetchar'][0]\n",
    "    ])\n",
    "np.random.seed(0)\n",
    "\n",
    "nRepeats = int(19/args.nSupport - 1)\n",
    "nTrain = nRepeats*args.nSupport\n",
    "nTest = args.nSupport\n",
    "\n",
    "alldata_train = np.concatenate([d[labels==k][None, :nTrain, :] for k,v in Counter(labels).items()]).reshape(-1, args.nSupport, 28, 28)\n",
    "alldata_test  = np.concatenate([d[labels==k][None, nTrain:nTrain+nTest, :] for k,v in Counter(labels).items()])\\\n",
    "        .reshape([-1, 1, args.nSupport, 28, 28])\\\n",
    "        .repeat(nRepeats, axis=1)\\\n",
    "        .reshape(alldata_train.shape)\n",
    "alldata = np.concatenate([alldata_train, alldata_test], axis=1)\n",
    "np.random.shuffle(alldata)\n",
    "#alldata_smooth = alldata\n",
    "alldata_smooth = torch.Tensor((0.5 < alldata).astype(np.uint8)).byte()\n",
    "alldata = torch.Tensor((np.random.rand(*alldata.shape) < alldata).astype(np.uint8)).byte()\n",
    "background_train = alldata[:, :args.nSupport]\n",
    "data = background_train\n",
    "data_smooth = alldata_smooth[:, :args.nSupport]\n",
    "\n",
    "background_test = alldata[:, args.nSupport:2*args.nSupport]\n",
    "testdata = background_test\n",
    "#background_train = alldata[:-300, :args.nSupport]\n",
    "#background_test = alldata[:-300, args.nSupport:2*args.nSupport]\n",
    "#novel_train = alldata[-300:, :args.nSupport]\n",
    "#novel_test = alldata[-300:, args.nSupport:2*args.nSupport]"
   ]
  },
  {
   "cell_type": "code",
   "execution_count": 19,
   "metadata": {},
   "outputs": [
    {
     "name": "stderr",
     "output_type": "stream",
     "text": [
      "/Users/lucastian/miniconda3/envs/babyglot/lib/python3.6/site-packages/matplotlib/figure.py:459: UserWarning: matplotlib is currently using a non-GUI backend, so cannot show the figure\n",
      "  \"matplotlib is currently using a non-GUI backend, \"\n"
     ]
    },
    {
     "data": {
      "image/png": "[encoded data removed]",
      "text/plain": [
       "<Figure size 432x288 with 1 Axes>"
      ]
     },
     "metadata": {},
     "output_type": "display_data"
    }
   ],
   "source": [
    "import matplotlib.pyplot as plt\n",
    "f = plt.figure()\n",
    "plt.plot(labels)\n",
    "f.show()"
   ]
  },
  {
   "cell_type": "code",
   "execution_count": 20,
   "metadata": {},
   "outputs": [
    {
     "data": {
      "text/plain": [
       "array([1, 1, 1, 1, 1, 2, 2, 2, 2, 2, 3, 3, 3, 3, 3, 4, 4, 4, 4, 4, 5, 5,\n",
       "       5, 5, 5])"
      ]
     },
     "execution_count": 20,
     "metadata": {},
     "output_type": "execute_result"
    }
   ],
   "source": [
    "labels0[:25]"
   ]
  }
 ],
 "metadata": {
  "kernelspec": {
   "display_name": "Python 3",
   "language": "python",
   "name": "python3"
  },
  "language_info": {
   "codemirror_mode": {
    "name": "ipython",
    "version": 3
   },
   "file_extension": ".py",
   "mimetype": "text/x-python",
   "name": "python",
   "nbconvert_exporter": "python",
   "pygments_lexer": "ipython3",
   "version": "3.6.5"
  }
 },
 "nbformat": 4,
 "nbformat_minor": 2
}
