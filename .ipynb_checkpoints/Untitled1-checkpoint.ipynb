{
 "cells": [
  {
   "cell_type": "code",
   "execution_count": 3,
   "metadata": {},
   "outputs": [],
   "source": [
    "import scipy.io\n",
    "import numpy as np\n",
    "\n",
    "from collections import Counter\n",
    "mat = scipy.io.loadmat(\"examples/mnist/data/chardata_omniglot.mat\")"
   ]
  },
  {
   "cell_type": "code",
   "execution_count": 7,
   "metadata": {
    "scrolled": true
   },
   "outputs": [],
   "source": [
    "args = {\n",
    "    'nSupport':1\n",
    "}"
   ]
  },
  {
   "cell_type": "code",
   "execution_count": 11,
   "metadata": {},
   "outputs": [],
   "source": [
    "class args:\n",
    "    def __init__(self):\n",
    "        return None\n",
    "    \n",
    "    nSupport = 1\n",
    "    "
   ]
  },
  {
   "cell_type": "code",
   "execution_count": 12,
   "metadata": {},
   "outputs": [
    {
     "ename": "TypeError",
     "evalue": "__init__() should return None, not 'str'",
     "output_type": "error",
     "traceback": [
      "\u001b[0;31m---------------------------------------------------------------------------\u001b[0m",
      "\u001b[0;31mTypeError\u001b[0m                                 Traceback (most recent call last)",
      "\u001b[0;32m<ipython-input-12-82767520dc88>\u001b[0m in \u001b[0;36m<module>\u001b[0;34m()\u001b[0m\n\u001b[0;32m----> 1\u001b[0;31m \u001b[0mtmp\u001b[0m \u001b[0;34m=\u001b[0m \u001b[0margs\u001b[0m\u001b[0;34m(\u001b[0m\u001b[0;34m)\u001b[0m\u001b[0;34m\u001b[0m\u001b[0m\n\u001b[0m",
      "\u001b[0;31mTypeError\u001b[0m: __init__() should return None, not 'str'"
     ]
    }
   ],
   "source": [
    "tmp = args()"
   ]
  },
  {
   "cell_type": "code",
   "execution_count": 8,
   "metadata": {},
   "outputs": [
    {
     "ename": "AttributeError",
     "evalue": "'dict' object has no attribute 'nSupport'",
     "output_type": "error",
     "traceback": [
      "\u001b[0;31m---------------------------------------------------------------------------\u001b[0m",
      "\u001b[0;31mAttributeError\u001b[0m                            Traceback (most recent call last)",
      "\u001b[0;32m<ipython-input-8-82c2b1d7c7ec>\u001b[0m in \u001b[0;36m<module>\u001b[0;34m()\u001b[0m\n\u001b[1;32m     12\u001b[0m \u001b[0mnp\u001b[0m\u001b[0;34m.\u001b[0m\u001b[0mrandom\u001b[0m\u001b[0;34m.\u001b[0m\u001b[0mseed\u001b[0m\u001b[0;34m(\u001b[0m\u001b[0;36m0\u001b[0m\u001b[0;34m)\u001b[0m\u001b[0;34m\u001b[0m\u001b[0m\n\u001b[1;32m     13\u001b[0m \u001b[0;34m\u001b[0m\u001b[0m\n\u001b[0;32m---> 14\u001b[0;31m \u001b[0mnRepeats\u001b[0m \u001b[0;34m=\u001b[0m \u001b[0mint\u001b[0m\u001b[0;34m(\u001b[0m\u001b[0;36m19\u001b[0m\u001b[0;34m/\u001b[0m\u001b[0margs\u001b[0m\u001b[0;34m.\u001b[0m\u001b[0mnSupport\u001b[0m \u001b[0;34m-\u001b[0m \u001b[0;36m1\u001b[0m\u001b[0;34m)\u001b[0m\u001b[0;34m\u001b[0m\u001b[0m\n\u001b[0m\u001b[1;32m     15\u001b[0m \u001b[0mnTrain\u001b[0m \u001b[0;34m=\u001b[0m \u001b[0mnRepeats\u001b[0m\u001b[0;34m*\u001b[0m\u001b[0margs\u001b[0m\u001b[0;34m.\u001b[0m\u001b[0mnSupport\u001b[0m\u001b[0;34m\u001b[0m\u001b[0m\n\u001b[1;32m     16\u001b[0m \u001b[0mnTest\u001b[0m \u001b[0;34m=\u001b[0m \u001b[0margs\u001b[0m\u001b[0;34m.\u001b[0m\u001b[0mnSupport\u001b[0m\u001b[0;34m\u001b[0m\u001b[0m\n",
      "\u001b[0;31mAttributeError\u001b[0m: 'dict' object has no attribute 'nSupport'"
     ]
    }
   ],
   "source": [
    "\n",
    "d = np.concatenate([\n",
    "    mat['data'].transpose(),\n",
    "    mat['testdata'].transpose()])\n",
    "labels = 100 * np.concatenate([\n",
    "        mat['target'].transpose().nonzero()[1],\n",
    "        mat['testtarget'].transpose().nonzero()[1]\n",
    "    ]) + np.concatenate([\n",
    "        mat['targetchar'][0],\n",
    "        mat['testtargetchar'][0]\n",
    "    ])\n",
    "np.random.seed(0)\n",
    "\n",
    "nRepeats = int(19/args.nSupport - 1)\n",
    "nTrain = nRepeats*args.nSupport\n",
    "nTest = args.nSupport\n",
    "\n",
    "alldata_train = np.concatenate([d[labels==k][None, :nTrain, :] for k,v in Counter(labels).items()]).reshape(-1, args.nSupport, 28, 28)\n",
    "alldata_test  = np.concatenate([d[labels==k][None, nTrain:nTrain+nTest, :] for k,v in Counter(labels).items()])\\\n",
    "        .reshape([-1, 1, args.nSupport, 28, 28])\\\n",
    "        .repeat(nRepeats, axis=1)\\\n",
    "        .reshape(alldata_train.shape)\n",
    "alldata = np.concatenate([alldata_train, alldata_test], axis=1)\n",
    "np.random.shuffle(alldata)\n",
    "#alldata_smooth = alldata\n",
    "alldata_smooth = torch.Tensor((0.5 < alldata).astype(np.uint8)).byte()\n",
    "alldata = torch.Tensor((np.random.rand(*alldata.shape) < alldata).astype(np.uint8)).byte()\n",
    "background_train = alldata[:, :args.nSupport]\n",
    "data = background_train\n",
    "data_smooth = alldata_smooth[:, :args.nSupport]\n",
    "\n",
    "background_test = alldata[:, args.nSupport:2*args.nSupport]\n",
    "testdata = background_test\n",
    "#background_train = alldata[:-300, :args.nSupport]\n",
    "#background_test = alldata[:-300, args.nSupport:2*args.nSupport]\n",
    "#novel_train = alldata[-300:, :args.nSupport]\n",
    "#novel_test = alldata[-300:, args.nSupport:2*args.nSupport]\n"
   ]
  }
 ],
 "metadata": {
  "kernelspec": {
   "display_name": "Python 3",
   "language": "python",
   "name": "python3"
  },
  "language_info": {
   "codemirror_mode": {
    "name": "ipython",
    "version": 3
   },
   "file_extension": ".py",
   "mimetype": "text/x-python",
   "name": "python",
   "nbconvert_exporter": "python",
   "pygments_lexer": "ipython3",
   "version": "3.6.5"
  }
 },
 "nbformat": 4,
 "nbformat_minor": 2
}
